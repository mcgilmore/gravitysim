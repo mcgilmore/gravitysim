{
 "cells": [
  {
   "cell_type": "markdown",
   "id": "ca565bc3-f697-443c-b534-ec0f85d97955",
   "metadata": {},
   "source": [
    "# Model the solar system dynamically using skyfield\n",
    "\n",
    "## First load up skyfield and init planets"
   ]
  },
  {
   "cell_type": "code",
   "execution_count": 13,
   "id": "46725bf5-f349-417d-9eb7-e6507417f5ef",
   "metadata": {},
   "outputs": [],
   "source": [
    "from skyfield.api import load\n",
    "planets = load('de421.bsp')\n",
    "sun = planets['SUN']\n",
    "planet_ids = {\n",
    "        'sun': 'SUN',\n",
    "        'mercury': 'MERCURY',\n",
    "        'venus': 'VENUS',\n",
    "        'earth': 'EARTH',\n",
    "        'mars': 'MARS',\n",
    "        'jupiter': 'JUPITER BARYCENTER',\n",
    "        'saturn': 'SATURN BARYCENTER',\n",
    "        'uranus': 'URANUS BARYCENTER',\n",
    "        'neptune': 'NEPTUNE BARYCENTER',\n",
    "        #'pluto': 'PLUTO BARYCENTER', pluto is not really a planet, sorry\n",
    "}\n",
    "\n",
    "ts = load.timescale()\n",
    "t = ts.now()"
   ]
  },
  {
   "cell_type": "markdown",
   "id": "fa965008-d4eb-4525-943c-215caaa9f596",
   "metadata": {},
   "source": [
    "## Now we can get some coordinates for our planets."
   ]
  },
  {
   "cell_type": "code",
   "execution_count": 16,
   "id": "1e39d7d9-d2c0-440c-ae0f-7226a6df7e4d",
   "metadata": {},
   "outputs": [
    {
     "name": "stdout",
     "output_type": "stream",
     "text": [
      "Sun has a position x: 0.0 m, y: 0.0 m, z: 0.0 m\n",
      "Mercury has a position x: 42630044107.29615 m, y: -23599810907.5406 m, z: -17025380420.78438 m\n",
      "Venus has a position x: -94447815516.93237 m, y: -50424554708.22227 m, z: -16713887459.267666 m\n",
      "Earth has a position x: -8836440528.362757 m, y: -134808867114.20065 m, z: -58437329378.630486 m\n",
      "Mars has a position x: 51611167297.66673 m, y: -211752584616.4798 m, z: -98517925734.12062 m\n",
      "Jupiter has a position x: -25229296889538.973 m, y: 4490611529311.581 m, z: 2550080286062.6025 m\n",
      "Saturn has a position x: 2114491500479.369 m, y: 17126957432334.877 m, z: 6976884178667.918 m\n",
      "Uranus has a position x: -1667810518480.6497 m, y: -2210184725284.1636 m, z: -944390644789.0431 m\n",
      "Neptune has a position x: -4469888303475.887 m, y: 52898991577.04749 m, z: 132927253204.20374 m\n"
     ]
    }
   ],
   "source": [
    "for planet, identifier in planet_ids.items():\n",
    "    currentPlanet = planets[identifier]\n",
    "    \n",
    "    # Get position relative to the Sun\n",
    "    position = currentPlanet.at(t).observe(sun).apparent().position.km\n",
    "    positions[planet] = {'x': position[0], 'y': position[1], 'z': position[2]}\n",
    "    \n",
    "    # Format and print the position\n",
    "    print(\n",
    "        f\"{planet.capitalize()} has a position \"\n",
    "        f\"x: {position[0] * 1000} m, \"\n",
    "        f\"y: {position[1] * 1000} m, \"\n",
    "        f\"z: {position[2] * 1000} m\"\n",
    "    )"
   ]
  },
  {
   "cell_type": "markdown",
   "id": "fc39c19a-d775-43f8-a402-b247303231a3",
   "metadata": {},
   "source": [
    "## We'll also need to get their velocities"
   ]
  },
  {
   "cell_type": "code",
   "execution_count": 17,
   "id": "ac73204d-be3d-41d5-a015-382c6439cd00",
   "metadata": {},
   "outputs": [
    {
     "name": "stdout",
     "output_type": "stream",
     "text": [
      "Sun has a velocity x: 0.0 m/s, y: 0.0 m/s, z: 0.0 m/s\n",
      "Mercury has a velocity x: 36981.97402177205 m/s, y: 35428.3718125069 m/s, z: 15092.969224570837 m/s\n",
      "Venus has a velocity x: 17229.232614333712 m/s, y: -27329.451963208274 m/s, z: -13387.368891766228 m/s\n",
      "Earth has a velocity x: 30209.661746270085 m/s, y: -1540.7260765902465 m/s, z: -668.6393440810486 m/s\n",
      "Mars has a velocity x: 22742.24577800969 m/s, y: 3106.073865629323 m/s, z: 811.2024370741095 m/s\n",
      "Jupiter has a velocity x: 12885.169216345155 m/s, y: -3191.45015444279 m/s, z: -1681.5888295426435 m/s\n",
      "Saturn has a velocity x: -1301.9225104476254 m/s, y: -8772.18062068399 m/s, z: -3567.0828360450782 m/s\n",
      "Uranus has a velocity x: 5657.800430974643 m/s, y: -3241.8458904733907 m/s, z: -1499.8709512512087 m/s\n",
      "Neptune has a velocity x: -75.91699867697768 m/s, y: -5066.642133066107 m/s, z: -2071.9720853286253 m/s\n"
     ]
    }
   ],
   "source": [
    "velocities = {}\n",
    "for planet, identifier in planet_ids.items():\n",
    "    currentPlanet = planets[identifier]\n",
    "    \n",
    "    # Get velocity relative to the Sun\n",
    "    velocity = currentPlanet.at(t).observe(sun).velocity.km_per_s\n",
    "    velocities[planet] = {'x': velocity[0], 'y': velocity[1], 'z': velocity[2]}\n",
    "    \n",
    "    # Format and print the velocity\n",
    "    print(\n",
    "        f\"{planet.capitalize()} has a velocity \"\n",
    "        f\"x: {velocity[0] * 1000} m/s, \"\n",
    "        f\"y: {velocity[1] * 1000} m/s, \"\n",
    "        f\"z: {velocity[2] * 1000} m/s\"\n",
    "    )"
   ]
  },
  {
   "cell_type": "code",
   "execution_count": null,
   "id": "f989bee0-bca9-440b-9fc2-7a17ecbbf187",
   "metadata": {
    "editable": true,
    "slideshow": {
     "slide_type": ""
    },
    "tags": []
   },
   "outputs": [],
   "source": []
  }
 ],
 "metadata": {
  "kernelspec": {
   "display_name": "Python 3 (ipykernel)",
   "language": "python",
   "name": "python3"
  },
  "language_info": {
   "codemirror_mode": {
    "name": "ipython",
    "version": 3
   },
   "file_extension": ".py",
   "mimetype": "text/x-python",
   "name": "python",
   "nbconvert_exporter": "python",
   "pygments_lexer": "ipython3",
   "version": "3.12.7"
  }
 },
 "nbformat": 4,
 "nbformat_minor": 5
}
