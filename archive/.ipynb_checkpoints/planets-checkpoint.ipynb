{
 "cells": [
  {
   "cell_type": "markdown",
   "id": "ca565bc3-f697-443c-b534-ec0f85d97955",
   "metadata": {},
   "source": [
    "# Model the solar system dynamically using skyfield\n",
    "\n",
    "First load up skyfield and init planets"
   ]
  },
  {
   "cell_type": "code",
   "execution_count": 1,
   "id": "46725bf5-f349-417d-9eb7-e6507417f5ef",
   "metadata": {},
   "outputs": [
    {
     "name": "stderr",
     "output_type": "stream",
     "text": [
      "[#################################] 100% de421.bsp\n"
     ]
    }
   ],
   "source": [
    "from skyfield.api import load\n",
    "planets = load('de421.bsp')\n",
    "sun = planets['SUN']\n",
    "planet_ids = {\n",
    "        'mercury': 'MERCURY',\n",
    "        'venus': 'VENUS',\n",
    "        'earth': 'EARTH',\n",
    "        'mars': 'MARS',\n",
    "        'jupiter': 'JUPITER BARYCENTER',\n",
    "        'saturn': 'SATURN BARYCENTER',\n",
    "        'uranus': 'URANUS BARYCENTER',\n",
    "        'neptune': 'NEPTUNE BARYCENTER',\n",
    "        'pluto': 'PLUTO BARYCENTER',\n",
    "}\n",
    "\n",
    "ts = load.timescale()\n",
    "t = ts.now()"
   ]
  },
  {
   "cell_type": "markdown",
   "id": "fa965008-d4eb-4525-943c-215caaa9f596",
   "metadata": {},
   "source": [
    "Now we can get some coordinates for our planets. Let's just pretend *z* doesn't exist for now"
   ]
  },
  {
   "cell_type": "code",
   "execution_count": 5,
   "id": "1e39d7d9-d2c0-440c-ae0f-7226a6df7e4d",
   "metadata": {},
   "outputs": [
    {
     "name": "stdout",
     "output_type": "stream",
     "text": [
      "mercury has a position x: {'x': np.float64(41150840.94656463), 'y': np.float64(-24968446.120094594), 'z': np.float64(-17603198.435544953)}\n",
      "venus has a position x: {'x': np.float64(-95114489.81637649), 'y': np.float64(-49350767.1539036), 'z': np.float64(-16188540.974546501)}\n",
      "earth has a position x: {'x': np.float64(-10018574.063632987), 'y': np.float64(-134744174.01931942), 'z': np.float64(-58409258.39398235)}\n",
      "mars has a position x: {'x': np.float64(50720607.370771885), 'y': np.float64(-211872526.2405), 'z': np.float64(-98548916.94262613)}\n",
      "jupiter has a position x: {'x': np.float64(16308426585.392643), 'y': np.float64(-4096214688.8685284), 'z': np.float64(-2155067090.060843)}\n",
      "saturn has a position x: {'x': np.float64(-4219292434.050372), 'y': np.float64(-13180255724.745974), 'z': np.float64(-5262086888.262011)}\n",
      "uranus has a position x: {'x': np.float64(-1668031962.6355824), 'y': np.float64(-2210057821.277235), 'z': np.float64(-944331931.919566)}\n",
      "neptune has a position x: {'x': np.float64(-4469885322.915222), 'y': np.float64(53097307.20446971), 'z': np.float64(133008352.93621418)}\n",
      "pluto has a position x: {'x': np.float64(-2721095281.1944976), 'y': np.float64(3998751797.474348), 'z': np.float64(2067432645.2596228)}\n"
     ]
    }
   ],
   "source": [
    "positions = {}\n",
    "for planet, identifier in planet_ids.items():\n",
    "    currentPlanet = planets[identifier]\n",
    "    # Get position relative to the Sun\n",
    "    position = currentPlanet.at(t).observe(sun).apparent().position.km\n",
    "    positions[planet] = {'x': position[0], 'y': position[1], 'z': position[2]}\n",
    "    print(f\"{planet} has a position x: {positions[planet]}\")\n"
   ]
  },
  {
   "cell_type": "markdown",
   "id": "fc39c19a-d775-43f8-a402-b247303231a3",
   "metadata": {},
   "source": [
    "We'll also need to get their velocities"
   ]
  },
  {
   "cell_type": "code",
   "execution_count": null,
   "id": "ac73204d-be3d-41d5-a015-382c6439cd00",
   "metadata": {},
   "outputs": [],
   "source": [
    "position_velocity = earth.at(t).observe(sun).velocity.km_per_s"
   ]
  }
 ],
 "metadata": {
  "kernelspec": {
   "display_name": "Python 3 (ipykernel)",
   "language": "python",
   "name": "python3"
  },
  "language_info": {
   "codemirror_mode": {
    "name": "ipython",
    "version": 3
   },
   "file_extension": ".py",
   "mimetype": "text/x-python",
   "name": "python",
   "nbconvert_exporter": "python",
   "pygments_lexer": "ipython3",
   "version": "3.12.7"
  }
 },
 "nbformat": 4,
 "nbformat_minor": 5
}
