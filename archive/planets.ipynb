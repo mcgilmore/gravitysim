{
 "cells": [
  {
   "cell_type": "markdown",
   "id": "ca565bc3-f697-443c-b534-ec0f85d97955",
   "metadata": {},
   "source": [
    "# Model the solar system dynamically using skyfield\n",
    "\n",
    "## First load up skyfield and init planets"
   ]
  },
  {
   "cell_type": "code",
   "execution_count": null,
   "id": "46725bf5-f349-417d-9eb7-e6507417f5ef",
   "metadata": {},
   "outputs": [],
   "source": [
    "from skyfield.api import load\n",
    "planets = load('de421.bsp')\n",
    "sun = planets['SUN']\n",
    "planet_ids = {\n",
    "        'sun': 'SUN',\n",
    "        'mercury': 'MERCURY',\n",
    "        'venus': 'VENUS',\n",
    "        'earth': 'EARTH',\n",
    "        'mars': 'MARS',\n",
    "        'jupiter': 'JUPITER BARYCENTER',\n",
    "        'saturn': 'SATURN BARYCENTER',\n",
    "        'uranus': 'URANUS BARYCENTER',\n",
    "        'neptune': 'NEPTUNE BARYCENTER',\n",
    "        #'pluto': 'PLUTO BARYCENTER', pluto is not really a planet, sorry\n",
    "}\n",
    "\n",
    "ts = load.timescale()\n",
    "t = ts.now()"
   ]
  },
  {
   "cell_type": "markdown",
   "id": "fa965008-d4eb-4525-943c-215caaa9f596",
   "metadata": {},
   "source": [
    "## Now we can get some coordinates for our planets."
   ]
  },
  {
   "cell_type": "code",
   "execution_count": null,
   "id": "1e39d7d9-d2c0-440c-ae0f-7226a6df7e4d",
   "metadata": {},
   "outputs": [],
   "source": [
    "for planet, identifier in planet_ids.items():\n",
    "    currentPlanet = planets[identifier]\n",
    "    \n",
    "    # Get position relative to the Sun\n",
    "    position = currentPlanet.at(t).observe(sun).apparent().position.km\n",
    "    positions[planet] = {'x': position[0], 'y': position[1], 'z': position[2]}\n",
    "    \n",
    "    # Format and print the position\n",
    "    print(\n",
    "        f\"{planet.capitalize()} has a position \"\n",
    "        f\"x: {position[0] * 1000} m, \"\n",
    "        f\"y: {position[1] * 1000} m, \"\n",
    "        f\"z: {position[2] * 1000} m\"\n",
    "    )"
   ]
  },
  {
   "cell_type": "markdown",
   "id": "fc39c19a-d775-43f8-a402-b247303231a3",
   "metadata": {},
   "source": [
    "## We'll also need to get their velocities"
   ]
  },
  {
   "cell_type": "code",
   "execution_count": null,
   "id": "ac73204d-be3d-41d5-a015-382c6439cd00",
   "metadata": {},
   "outputs": [],
   "source": [
    "velocities = {}\n",
    "for planet, identifier in planet_ids.items():\n",
    "    currentPlanet = planets[identifier]\n",
    "    \n",
    "    # Get velocity relative to the Sun\n",
    "    velocity = currentPlanet.at(t).observe(sun).velocity.km_per_s\n",
    "    velocities[planet] = {'x': velocity[0], 'y': velocity[1], 'z': velocity[2]}\n",
    "    \n",
    "    # Format and print the velocity\n",
    "    print(\n",
    "        f\"{planet.capitalize()} has a velocity \"\n",
    "        f\"x: {velocity[0] * 1000} m/s, \"\n",
    "        f\"y: {velocity[1] * 1000} m/s, \"\n",
    "        f\"z: {velocity[2] * 1000} m/s\"\n",
    "    )"
   ]
  }
 ],
 "metadata": {
  "kernelspec": {
   "display_name": "Python 3",
   "language": "python",
   "name": "python3"
  },
  "language_info": {
   "codemirror_mode": {
    "name": "ipython",
    "version": 3
   },
   "file_extension": ".py",
   "mimetype": "text/x-python",
   "name": "python",
   "nbconvert_exporter": "python",
   "pygments_lexer": "ipython3",
   "version": "3.9.6"
  }
 },
 "nbformat": 4,
 "nbformat_minor": 5
}
